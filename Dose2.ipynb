{
 "cells": [
  {
   "cell_type": "code",
   "execution_count": 1,
   "metadata": {},
   "outputs": [],
   "source": [
    "import pandas as pd\n",
    "import numpy as np"
   ]
  },
  {
   "cell_type": "code",
   "execution_count": 8,
   "metadata": {},
   "outputs": [],
   "source": [
    "from datetime import datetime\n",
    "from dateutil.parser import  parse"
   ]
  },
  {
   "cell_type": "code",
   "execution_count": null,
   "metadata": {},
   "outputs": [],
   "source": [
    "# making a pandas Series with datetime index"
   ]
  },
  {
   "cell_type": "code",
   "execution_count": 11,
   "metadata": {},
   "outputs": [],
   "source": [
    "ts=pd.Series(np.random.rand(100),index=pd.date_range('1/2/2000',periods=100,freq='4d'))"
   ]
  },
  {
   "cell_type": "code",
   "execution_count": 12,
   "metadata": {},
   "outputs": [
    {
     "data": {
      "text/plain": [
       "2000-01-02    0.009426\n",
       "2000-01-06    0.811513\n",
       "2000-01-10    0.805276\n",
       "2000-01-14    0.196297\n",
       "2000-01-18    0.488051\n",
       "2000-01-22    0.545752\n",
       "2000-01-26    0.839966\n",
       "2000-01-30    0.746239\n",
       "2000-02-03    0.435160\n",
       "2000-02-07    0.001257\n",
       "2000-02-11    0.810946\n",
       "2000-02-15    0.675184\n",
       "2000-02-19    0.969992\n",
       "2000-02-23    0.642581\n",
       "2000-02-27    0.168087\n",
       "2000-03-02    0.400173\n",
       "2000-03-06    0.214815\n",
       "2000-03-10    0.646028\n",
       "2000-03-14    0.675051\n",
       "2000-03-18    0.960135\n",
       "2000-03-22    0.840171\n",
       "2000-03-26    0.303481\n",
       "2000-03-30    0.979105\n",
       "2000-04-03    0.986124\n",
       "2000-04-07    0.782654\n",
       "2000-04-11    0.230136\n",
       "2000-04-15    0.204068\n",
       "2000-04-19    0.067593\n",
       "2000-04-23    0.337223\n",
       "2000-04-27    0.984096\n",
       "                ...   \n",
       "2000-10-08    0.754281\n",
       "2000-10-12    0.044257\n",
       "2000-10-16    0.792507\n",
       "2000-10-20    0.812269\n",
       "2000-10-24    0.531597\n",
       "2000-10-28    0.602435\n",
       "2000-11-01    0.678403\n",
       "2000-11-05    0.767192\n",
       "2000-11-09    0.266392\n",
       "2000-11-13    0.550837\n",
       "2000-11-17    0.518587\n",
       "2000-11-21    0.288060\n",
       "2000-11-25    0.215414\n",
       "2000-11-29    0.138899\n",
       "2000-12-03    0.425929\n",
       "2000-12-07    0.439200\n",
       "2000-12-11    0.353688\n",
       "2000-12-15    0.183088\n",
       "2000-12-19    0.672621\n",
       "2000-12-23    0.022372\n",
       "2000-12-27    0.470257\n",
       "2000-12-31    0.646560\n",
       "2001-01-04    0.267661\n",
       "2001-01-08    0.507809\n",
       "2001-01-12    0.105317\n",
       "2001-01-16    0.639730\n",
       "2001-01-20    0.297991\n",
       "2001-01-24    0.400187\n",
       "2001-01-28    0.785245\n",
       "2001-02-01    0.118752\n",
       "Freq: 4D, Length: 100, dtype: float64"
      ]
     },
     "execution_count": 12,
     "metadata": {},
     "output_type": "execute_result"
    }
   ],
   "source": [
    "ts"
   ]
  },
  {
   "cell_type": "code",
   "execution_count": null,
   "metadata": {},
   "outputs": [],
   "source": [
    "# concept of offset"
   ]
  },
  {
   "cell_type": "code",
   "execution_count": 14,
   "metadata": {},
   "outputs": [],
   "source": [
    "from pandas.tseries.offsets import Day,MonthEnd"
   ]
  },
  {
   "cell_type": "code",
   "execution_count": 15,
   "metadata": {},
   "outputs": [],
   "source": [
    "offset=MonthEnd()"
   ]
  },
  {
   "cell_type": "code",
   "execution_count": 16,
   "metadata": {},
   "outputs": [
    {
     "data": {
      "text/plain": [
       "2000-01-31    0.555315\n",
       "2000-02-29    0.529030\n",
       "2000-03-31    0.627370\n",
       "2000-04-30    0.513128\n",
       "2000-05-31    0.585623\n",
       "2000-06-30    0.585760\n",
       "2000-07-31    0.494203\n",
       "2000-08-31    0.514650\n",
       "2000-09-30    0.394216\n",
       "2000-10-31    0.630673\n",
       "2000-11-30    0.427973\n",
       "2000-12-31    0.401714\n",
       "2001-01-31    0.429134\n",
       "2001-02-28    0.118752\n",
       "dtype: float64"
      ]
     },
     "execution_count": 16,
     "metadata": {},
     "output_type": "execute_result"
    }
   ],
   "source": [
    "ts.groupby(offset.rollforward).mean()"
   ]
  },
  {
   "cell_type": "code",
   "execution_count": 22,
   "metadata": {},
   "outputs": [],
   "source": [
    "now = datetime(2011, 11, 17)"
   ]
  },
  {
   "cell_type": "code",
   "execution_count": 23,
   "metadata": {},
   "outputs": [
    {
     "data": {
      "text/plain": [
       "Timestamp('2011-10-31 00:00:00')"
      ]
     },
     "execution_count": 23,
     "metadata": {},
     "output_type": "execute_result"
    }
   ],
   "source": [
    "offset.rollback(now)"
   ]
  },
  {
   "cell_type": "code",
   "execution_count": 24,
   "metadata": {},
   "outputs": [
    {
     "data": {
      "text/plain": [
       "2000-01-31    0.555315\n",
       "2000-02-29    0.529030\n",
       "2000-03-31    0.627370\n",
       "2000-04-30    0.513128\n",
       "2000-05-31    0.585623\n",
       "2000-06-30    0.585760\n",
       "2000-07-31    0.494203\n",
       "2000-08-31    0.514650\n",
       "2000-09-30    0.394216\n",
       "2000-10-31    0.630673\n",
       "2000-11-30    0.427973\n",
       "2000-12-31    0.401714\n",
       "2001-01-31    0.429134\n",
       "2001-02-28    0.118752\n",
       "Freq: M, dtype: float64"
      ]
     },
     "execution_count": 24,
     "metadata": {},
     "output_type": "execute_result"
    }
   ],
   "source": [
    "ts.resample('M').mean()"
   ]
  },
  {
   "cell_type": "code",
   "execution_count": 25,
   "metadata": {},
   "outputs": [],
   "source": [
    "# Time Zone handling"
   ]
  },
  {
   "cell_type": "code",
   "execution_count": 26,
   "metadata": {},
   "outputs": [],
   "source": [
    "import pytz"
   ]
  },
  {
   "cell_type": "code",
   "execution_count": 27,
   "metadata": {},
   "outputs": [
    {
     "data": {
      "text/plain": [
       "['US/Eastern', 'US/Hawaii', 'US/Mountain', 'US/Pacific', 'UTC']"
      ]
     },
     "execution_count": 27,
     "metadata": {},
     "output_type": "execute_result"
    }
   ],
   "source": [
    "pytz.common_timezones[-5:]"
   ]
  },
  {
   "cell_type": "code",
   "execution_count": 36,
   "metadata": {},
   "outputs": [],
   "source": [
    "tz=pytz.timezone('America/New_York')"
   ]
  },
  {
   "cell_type": "code",
   "execution_count": 37,
   "metadata": {},
   "outputs": [
    {
     "data": {
      "text/plain": [
       "<DstTzInfo 'America/New_York' LMT-1 day, 19:04:00 STD>"
      ]
     },
     "execution_count": 37,
     "metadata": {},
     "output_type": "execute_result"
    }
   ],
   "source": [
    "tz"
   ]
  },
  {
   "cell_type": "code",
   "execution_count": 31,
   "metadata": {},
   "outputs": [],
   "source": [
    "rng=pd.date_range('3/9/2012 9:30', periods=6, freq='D')\n",
    "\n",
    "ts=pd.Series(np.random.rand(len(rng)), index=rng)\n",
    "\n",
    "ts"
   ]
  },
  {
   "cell_type": "code",
   "execution_count": 34,
   "metadata": {},
   "outputs": [
    {
     "name": "stdout",
     "output_type": "stream",
     "text": [
      "None\n"
     ]
    }
   ],
   "source": [
    "print(ts.index.tz)"
   ]
  },
  {
   "cell_type": "code",
   "execution_count": 39,
   "metadata": {},
   "outputs": [],
   "source": [
    "rng=pd.date_range('3/9/2012 9:30', periods=6, freq='D',tz='UTC')"
   ]
  },
  {
   "cell_type": "code",
   "execution_count": 40,
   "metadata": {},
   "outputs": [],
   "source": [
    "ts=pd.Series(np.random.rand(len(rng)), index=rng)"
   ]
  },
  {
   "cell_type": "code",
   "execution_count": 41,
   "metadata": {},
   "outputs": [
    {
     "data": {
      "text/plain": [
       "2012-03-09 09:30:00+00:00    0.539781\n",
       "2012-03-10 09:30:00+00:00    0.904754\n",
       "2012-03-11 09:30:00+00:00    0.855720\n",
       "2012-03-12 09:30:00+00:00    0.067393\n",
       "2012-03-13 09:30:00+00:00    0.690140\n",
       "2012-03-14 09:30:00+00:00    0.925175\n",
       "Freq: D, dtype: float64"
      ]
     },
     "execution_count": 41,
     "metadata": {},
     "output_type": "execute_result"
    }
   ],
   "source": [
    "ts"
   ]
  },
  {
   "cell_type": "code",
   "execution_count": null,
   "metadata": {},
   "outputs": [],
   "source": []
  }
 ],
 "metadata": {
  "kernelspec": {
   "display_name": "Python 3",
   "language": "python",
   "name": "python3"
  },
  "language_info": {
   "codemirror_mode": {
    "name": "ipython",
    "version": 3
   },
   "file_extension": ".py",
   "mimetype": "text/x-python",
   "name": "python",
   "nbconvert_exporter": "python",
   "pygments_lexer": "ipython3",
   "version": "3.7.0"
  }
 },
 "nbformat": 4,
 "nbformat_minor": 2
}
